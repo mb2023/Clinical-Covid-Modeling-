{
 "cells": [
  {
   "cell_type": "markdown",
   "metadata": {},
   "source": [
    "### NEWS 2 Predictive Model Python Cleaning\n",
    "\n",
    "By Matt Stammers, Megha Bhandari and Florina Borca - UHS Digital\n",
    "\n",
    "This script prepares the data for the NEWS2 COVID Predictive Model in readiness for comparison with the outcomes from the King's model."
   ]
  },
  {
   "cell_type": "code",
   "execution_count": null,
   "metadata": {},
   "outputs": [],
   "source": [
    "# Import the Key Packages\n",
    "\n",
    "import datetime\n",
    "from datetime import timedelta\n",
    "import os\n",
    "import numpy as np\n",
    "import pandas as pd\n",
    "from joblib import load\n",
    "import matplotlib.pyplot as plt\n",
    "from sklearn.preprocessing import StandardScaler\n",
    "from sklearn.impute import KNNImputer\n",
    "from sklearn.model_selection import RepeatedKFold\n",
    "from sklearn.metrics import (make_scorer,\n",
    "                             confusion_matrix,\n",
    "                             roc_auc_score,\n",
    "                             recall_score)"
   ]
  },
  {
   "cell_type": "code",
   "execution_count": null,
   "metadata": {},
   "outputs": [],
   "source": [
    "# Import the Directories\n",
    "\n",
    "Raw_Dir = \"Z:/Trust/Information team (SHARE)/COVID-19 datasets/National Early Warning Score (NEWS)/Datasets/Raw_Dir/\"\n",
    "Processed_Dir = \"Z:/Trust/Information team (SHARE)/COVID-19 datasets/National Early Warning Score (NEWS)/Datasets/Processed_Dir/\"\n",
    "Output_Dir = \"Z:/Trust/Information team (SHARE)/COVID-19 datasets/National Early Warning Score (NEWS)/Datasets/Output_Dir/\"\n",
    "\n",
    "fn_base = 'CHESS_ML_Database2305.csv'\n",
    "fn_path='Pathology_20200518.xlsx'\n",
    "fn_news='NEWS2_score_20200523.xlsx'\n",
    "fn_alb='ALB.xlsx'\n",
    "fn_labs='Labs.csv'\n",
    "fn_adms='CamisWardAndBed.csv'\n",
    "fn_virology='2020-05-22 COVID-19 Results.csv'\n",
    "fn_resp = 'Respiratory_rate.xlsx'\n",
    "fn_sats = 'Oxygen_saturation.xlsx'"
   ]
  },
  {
   "cell_type": "code",
   "execution_count": null,
   "metadata": {},
   "outputs": [],
   "source": [
    "# Import the main data files\n",
    "df_virology=pd.read_csv(Raw_Dir + fn_virology)\n",
    "df_base=pd.read_csv(Processed_Dir + fn_base)\n",
    "df_path=pd.read_excel(Raw_Dir + fn_path, parse_dates = True)\n",
    "df_news=pd.read_excel(Raw_Dir + fn_news)\n",
    "df_alb=pd.read_excel(Raw_Dir + fn_alb)\n",
    "df_labs=pd.read_csv(Raw_Dir+ fn_labs, sep='|') # You can also use delimiter = '|' they do the same thing\n",
    "df_adms=pd.read_csv(Raw_Dir+ fn_adms, sep='|')\n",
    "df_resp=pd.read_excel(Raw_Dir + fn_resp)\n",
    "df_sats=pd.read_excel(Raw_Dir + fn_sats)"
   ]
  },
  {
   "cell_type": "code",
   "execution_count": null,
   "metadata": {},
   "outputs": [],
   "source": [
    "# Adjust settings to see entire frame:\n",
    "\n",
    "pd.set_option('display.max_rows', 500)\n",
    "pd.set_option('display.max_columns', 500)\n",
    "pd.set_option('display.width', 1000)\n",
    "pd.options.mode.chained_assignment = None"
   ]
  },
  {
   "cell_type": "code",
   "execution_count": null,
   "metadata": {},
   "outputs": [],
   "source": [
    "df_key = df_base[[\"HospitalNumber\", \"DateOfHospitalAdmission\", \"Date & Time of Receipt\"]]"
   ]
  },
  {
   "cell_type": "code",
   "execution_count": null,
   "metadata": {},
   "outputs": [],
   "source": [
    "df_key['DateOfHospitalAdmission'] = pd.to_datetime(df_key['DateOfHospitalAdmission'], dayfirst = True)\n",
    "df_key['Date & Time of Receipt'] = pd.to_datetime(df_key['Date & Time of Receipt'], dayfirst = True)"
   ]
  },
  {
   "cell_type": "code",
   "execution_count": null,
   "metadata": {},
   "outputs": [],
   "source": [
    "df_key['Adm_Test_Timelag'] = df_key['Date & Time of Receipt'] - df_key.DateOfHospitalAdmission"
   ]
  },
  {
   "cell_type": "code",
   "execution_count": null,
   "metadata": {},
   "outputs": [],
   "source": [
    "from datetime import timedelta\n",
    "df_key['DateOfHospitalAdmission+5']= df_key['DateOfHospitalAdmission'] + timedelta(days=3)\n",
    "df_key['DateOfHospitalAdmission-2']= df_key['DateOfHospitalAdmission'] + timedelta(days=0)\n",
    "df_key['Date & Time of Receipt+5'] = df_key['Date & Time of Receipt']  + timedelta(days=3)\n",
    "df_key['Date & Time of Receipt-2'] = df_key['Date & Time of Receipt']  + timedelta(days=0)"
   ]
  },
  {
   "cell_type": "code",
   "execution_count": null,
   "metadata": {},
   "outputs": [],
   "source": [
    "df_key.head()"
   ]
  },
  {
   "cell_type": "code",
   "execution_count": null,
   "metadata": {},
   "outputs": [],
   "source": [
    "# Build a massive dataframe with all the key results in it\n",
    "\n",
    "#df_path2\n",
    "#df_news2\n",
    "#df_alb2\n",
    "#df_labs2\n",
    "#df_resp\n",
    "#df_sats"
   ]
  },
  {
   "cell_type": "code",
   "execution_count": null,
   "metadata": {},
   "outputs": [],
   "source": [
    "df_path2 = df_path[['PATIENT_NO', 'PATHOLOGY_SPECIMEN_DATE', 'PATHOLOGY_TEST_CODE', 'PATHOLOGY_RESULT_NUMERIC']]\n",
    "df_news2 = df_news[['HospitalNumber', 'Time', 'parameterName', 'value']]\n",
    "df_alb2 = df_alb[['PATIENT_NO', 'PATHOLOGY_SPECIMEN_DATE', 'PATHOLOGY_TEST_CODE', 'PATHOLOGY_RESULT_NUMERIC']]\n",
    "df_labs2 = df_labs[['PATIENT_NUMBER', 'SPECIMEN_DATE', 'TEST_CODE', 'RESULT_VALUE']]\n",
    "df_sats2 = df_sats[['HospitalNumber', 'ValidationTime', 'ParameterName', 'Value']]\n",
    "df_resp2 = df_resp[['HospitalNumber', 'ValidationTime', 'ParameterName', 'Value']]"
   ]
  },
  {
   "cell_type": "code",
   "execution_count": null,
   "metadata": {},
   "outputs": [],
   "source": [
    "df_path2.columns = ['PATIENT_NO', 'DATE', 'TEST_CODE', 'RESULT']\n",
    "df_news2.columns = ['PATIENT_NO', 'DATE', 'TEST_CODE', 'RESULT']\n",
    "df_alb2.columns = ['PATIENT_NO', 'DATE', 'TEST_CODE', 'RESULT']\n",
    "df_labs2.columns = ['PATIENT_NO', 'DATE', 'TEST_CODE', 'RESULT']\n",
    "df_sats2.columns = ['PATIENT_NO', 'DATE', 'TEST_CODE', 'RESULT']\n",
    "df_resp2.columns = ['PATIENT_NO', 'DATE', 'TEST_CODE', 'RESULT']"
   ]
  },
  {
   "cell_type": "code",
   "execution_count": null,
   "metadata": {},
   "outputs": [],
   "source": [
    "# Now join them all\n",
    "\n",
    "df_joined = pd.concat([df_path2, df_news2])\n",
    "df_joined2 = pd.concat([df_joined, df_alb2])\n",
    "df_joined3 = pd.concat([df_joined2, df_labs2])\n",
    "df_joined4 = pd.concat([df_joined3, df_sats2])\n",
    "df_joined5 = pd.concat([df_joined4, df_resp2])"
   ]
  },
  {
   "cell_type": "code",
   "execution_count": null,
   "metadata": {},
   "outputs": [],
   "source": [
    "df_joined5.DATE = pd.to_datetime(df_joined5.DATE,dayfirst=True)"
   ]
  },
  {
   "cell_type": "code",
   "execution_count": null,
   "metadata": {},
   "outputs": [],
   "source": [
    "df_joined5.info()"
   ]
  },
  {
   "cell_type": "code",
   "execution_count": null,
   "metadata": {},
   "outputs": [],
   "source": [
    "# Function to Repair Hospital Numbers\n",
    "\n",
    "def fullno(x):\n",
    "    if len(x)==7:\n",
    "        return x\n",
    "    elif len(x)==6:\n",
    "        return ''.join('0'+x)\n",
    "    elif len(x)==5:\n",
    "        return ''.join('00'+x)\n",
    "    elif len(x)==4:\n",
    "        return ''.join('000'+x)\n",
    "    else:\n",
    "        return ''"
   ]
  },
  {
   "cell_type": "code",
   "execution_count": null,
   "metadata": {},
   "outputs": [],
   "source": [
    "# Then repair hospital numbers\n",
    "\n",
    "df_joined5.PATIENT_NO = df_joined5.PATIENT_NO.astype(str)\n",
    "df_joined5.PATIENT_NO = df_joined5.PATIENT_NO.apply(fullno)"
   ]
  },
  {
   "cell_type": "code",
   "execution_count": null,
   "metadata": {},
   "outputs": [],
   "source": [
    "df_joined5.shape"
   ]
  },
  {
   "cell_type": "code",
   "execution_count": null,
   "metadata": {},
   "outputs": [],
   "source": [
    "# Then join them together\n",
    "\n",
    "df_full = pd.merge(df_key, df_joined5, left_on='HospitalNumber', right_on ='PATIENT_NO', how ='left')"
   ]
  },
  {
   "cell_type": "code",
   "execution_count": null,
   "metadata": {},
   "outputs": [],
   "source": [
    "df_full.info()"
   ]
  },
  {
   "cell_type": "code",
   "execution_count": null,
   "metadata": {},
   "outputs": [],
   "source": [
    "df_full.TEST_CODE.unique()"
   ]
  },
  {
   "cell_type": "code",
   "execution_count": null,
   "metadata": {},
   "outputs": [],
   "source": [
    "key_tests = ['*Respiration rate', 'Peripheral oxygen saturation' ,'Total Obs Score', 'NEUT', 'ALB2', 'AST', 'FER2', 'TRIG',\n",
    "       'CRP', 'CR2', 'GFR3', 'HST1', 'Hb', 'LYM', 'PLT', 'WBC', 'DD2',\n",
    "       'FIBD', '25VD', 'AKIA']"
   ]
  },
  {
   "cell_type": "code",
   "execution_count": null,
   "metadata": {},
   "outputs": [],
   "source": [
    "df_full2 = df_full[df_full['TEST_CODE'].isin(key_tests)]"
   ]
  },
  {
   "cell_type": "code",
   "execution_count": null,
   "metadata": {},
   "outputs": [],
   "source": [
    "# To Clean some of the blood tests you may need the following:\n",
    "\n",
    "def Whitespace_Strip(x):\n",
    "    return x.replace(' ','')\n",
    "\n",
    "def Dot_Remover(x):\n",
    "    if x == '.':\n",
    "        return ''\n",
    "    elif x == '..':\n",
    "        return ''\n",
    "    else:\n",
    "        return x"
   ]
  },
  {
   "cell_type": "code",
   "execution_count": null,
   "metadata": {},
   "outputs": [],
   "source": [
    "df_full2['RESULT'].unique()"
   ]
  },
  {
   "cell_type": "code",
   "execution_count": null,
   "metadata": {},
   "outputs": [],
   "source": [
    "# Clean the bloods to convert to Float:\n",
    "\n",
    "df_full2['RESULT'] = df_full2['RESULT'].astype(str)\n",
    "df_full2['RESULT'] = df_full2['RESULT'].apply(lambda x: ''.join(i for i in x if i.isdigit() or i == '.'))\n",
    "df_full2['RESULT'] = df_full2['RESULT'].apply(Dot_Remover)\n",
    "df_full2['RESULT'] = df_full2['RESULT'].apply(Whitespace_Strip)\n",
    "df_full2['RESULT'] = df_full2['RESULT'].replace('.', '')\n",
    "df_full2['RESULT'] = df_full2['RESULT'].replace('', 'NaN')\n",
    "df_full2.dropna(subset = [\"RESULT\"], inplace=True)\n",
    "df_full2['RESULT'] = df_full2['RESULT'].astype(float)"
   ]
  },
  {
   "cell_type": "code",
   "execution_count": null,
   "metadata": {},
   "outputs": [],
   "source": [
    "# There are some irritating nans hiding thus why I had to find them amongst the thousands of rows!\n",
    "pd.set_option('display.max_rows', None)"
   ]
  },
  {
   "cell_type": "code",
   "execution_count": null,
   "metadata": {},
   "outputs": [],
   "source": [
    "#df_full3['RESULT'].explode().value_counts()"
   ]
  },
  {
   "cell_type": "code",
   "execution_count": null,
   "metadata": {},
   "outputs": [],
   "source": [
    "df_full2.info()"
   ]
  },
  {
   "cell_type": "code",
   "execution_count": null,
   "metadata": {},
   "outputs": [],
   "source": [
    "df_full2['COVID_TEST_TIMELAG'] = df_full2['DATE'] - df_full2['Date & Time of Receipt']"
   ]
  },
  {
   "cell_type": "code",
   "execution_count": null,
   "metadata": {},
   "outputs": [],
   "source": [
    "df_adm_filtered = df_full2[df_full2['DATE'].between(df_full2['DateOfHospitalAdmission-2'], df_full2['DateOfHospitalAdmission+5'])]\n",
    "df_lab_filtered = df_full2[df_full2['DATE'].between(df_full2['Date & Time of Receipt-2'], df_full2['Date & Time of Receipt+5'])]"
   ]
  },
  {
   "cell_type": "code",
   "execution_count": null,
   "metadata": {},
   "outputs": [],
   "source": [
    "df_adm_filtered.shape"
   ]
  },
  {
   "cell_type": "code",
   "execution_count": null,
   "metadata": {},
   "outputs": [],
   "source": [
    "df_lab_filtered.shape"
   ]
  },
  {
   "cell_type": "code",
   "execution_count": null,
   "metadata": {},
   "outputs": [],
   "source": [
    "df_lab_filtered.head()"
   ]
  },
  {
   "cell_type": "code",
   "execution_count": null,
   "metadata": {},
   "outputs": [],
   "source": [
    "df_lab_filtered.columns"
   ]
  },
  {
   "cell_type": "code",
   "execution_count": null,
   "metadata": {},
   "outputs": [],
   "source": [
    "df_lab_filtered2 = df_lab_filtered[['HospitalNumber','TEST_CODE', 'RESULT']]"
   ]
  },
  {
   "cell_type": "code",
   "execution_count": null,
   "metadata": {},
   "outputs": [],
   "source": [
    "df_lab_filtered_first_grouped = df_lab_filtered2.groupby(['HospitalNumber','TEST_CODE']).agg('max').transpose().stack(0).reset_index()"
   ]
  },
  {
   "cell_type": "code",
   "execution_count": null,
   "metadata": {},
   "outputs": [],
   "source": [
    "df_lab_filtered_first_grouped.columns"
   ]
  },
  {
   "cell_type": "code",
   "execution_count": null,
   "metadata": {},
   "outputs": [],
   "source": [
    "df_lab_filtered_first_grouped = df_lab_filtered_first_grouped[['HospitalNumber', '*Respiration rate', '25VD', 'AKIA', 'ALB2', 'AST', 'CR2', 'CRP', 'DD2', 'FER2', 'FIBD', 'GFR3', 'HST1', 'Hb', 'LYM', 'NEUT', 'PLT', 'Peripheral oxygen saturation', 'TRIG', 'Total Obs Score', 'WBC']]"
   ]
  },
  {
   "cell_type": "code",
   "execution_count": null,
   "metadata": {},
   "outputs": [],
   "source": [
    "# This is what we needed\n",
    "df_lab_filtered_first_grouped.head()"
   ]
  },
  {
   "cell_type": "code",
   "execution_count": null,
   "metadata": {},
   "outputs": [],
   "source": [
    "df_lab_filtered_counts_grouped = df_lab_filtered2.groupby(['HospitalNumber','TEST_CODE']).agg('count').transpose().stack(0).reset_index()"
   ]
  },
  {
   "cell_type": "code",
   "execution_count": null,
   "metadata": {},
   "outputs": [],
   "source": [
    "df_lab_filtered_counts_grouped = df_lab_filtered_counts_grouped[['HospitalNumber', '*Respiration rate', '25VD', 'AKIA', 'ALB2', 'AST', 'CR2', 'CRP', 'DD2', 'FER2', 'FIBD', 'GFR3', 'HST1', 'Hb', 'LYM', 'NEUT', 'PLT', 'Peripheral oxygen saturation', 'TRIG', 'Total Obs Score', 'WBC']]"
   ]
  },
  {
   "cell_type": "code",
   "execution_count": null,
   "metadata": {},
   "outputs": [],
   "source": [
    "df_lab_filtered_counts_grouped.apply(lambda x: x.isnull().value_counts())"
   ]
  },
  {
   "cell_type": "code",
   "execution_count": null,
   "metadata": {},
   "outputs": [],
   "source": [
    "# Ok this one is ready\n",
    "df_lab_filtered_counts_grouped.shape"
   ]
  },
  {
   "cell_type": "code",
   "execution_count": null,
   "metadata": {},
   "outputs": [],
   "source": [
    "df_adm_filtered2 = df_adm_filtered[['HospitalNumber','TEST_CODE', 'RESULT']]"
   ]
  },
  {
   "cell_type": "code",
   "execution_count": null,
   "metadata": {},
   "outputs": [],
   "source": [
    "df_adm_filtered_first_grouped = df_adm_filtered2.groupby(['HospitalNumber','TEST_CODE']).agg('first').transpose().stack(0).reset_index()"
   ]
  },
  {
   "cell_type": "code",
   "execution_count": null,
   "metadata": {},
   "outputs": [],
   "source": [
    "df_adm_filtered_first_grouped.columns"
   ]
  },
  {
   "cell_type": "code",
   "execution_count": null,
   "metadata": {},
   "outputs": [],
   "source": [
    "df_adm_filtered_first_grouped = df_adm_filtered_first_grouped[['HospitalNumber', '*Respiration rate', '25VD', 'AKIA', 'ALB2', 'AST', 'CR2', 'CRP', 'DD2', 'FER2', 'FIBD', 'GFR3', 'HST1', 'Hb', 'LYM', 'NEUT', 'PLT', 'Peripheral oxygen saturation', 'TRIG', 'Total Obs Score', 'WBC']]"
   ]
  },
  {
   "cell_type": "code",
   "execution_count": null,
   "metadata": {},
   "outputs": [],
   "source": [
    "# This is what we needed\n",
    "df_adm_filtered_first_grouped.head()"
   ]
  },
  {
   "cell_type": "code",
   "execution_count": null,
   "metadata": {},
   "outputs": [],
   "source": [
    "df_adm_filtered_counts_grouped = df_adm_filtered2.groupby(['HospitalNumber','TEST_CODE']).agg('count').transpose().stack(0).reset_index()"
   ]
  },
  {
   "cell_type": "code",
   "execution_count": null,
   "metadata": {},
   "outputs": [],
   "source": [
    "df_adm_filtered_counts_grouped = df_adm_filtered_counts_grouped[['HospitalNumber', '*Respiration rate', '25VD', 'AKIA', 'ALB2', 'AST', 'CR2', 'CRP', 'DD2', 'FER2', 'FIBD', 'GFR3', 'HST1', 'Hb', 'LYM', 'NEUT', 'PLT', 'Peripheral oxygen saturation', 'TRIG', 'Total Obs Score', 'WBC']]"
   ]
  },
  {
   "cell_type": "code",
   "execution_count": null,
   "metadata": {},
   "outputs": [],
   "source": [
    "df_adm_filtered_counts_grouped.apply(lambda x: x.isnull().value_counts())"
   ]
  },
  {
   "cell_type": "code",
   "execution_count": null,
   "metadata": {},
   "outputs": [],
   "source": [
    "# Ok this one is ready\n",
    "df_adm_filtered_counts_grouped.shape"
   ]
  },
  {
   "cell_type": "code",
   "execution_count": null,
   "metadata": {},
   "outputs": [],
   "source": [
    "df_lab_filtered_first_grouped.info()"
   ]
  },
  {
   "cell_type": "code",
   "execution_count": null,
   "metadata": {},
   "outputs": [],
   "source": [
    "df_final = pd.merge(df_base, df_lab_filtered_first_grouped, on='HospitalNumber', how='left')"
   ]
  },
  {
   "cell_type": "code",
   "execution_count": null,
   "metadata": {},
   "outputs": [],
   "source": [
    "df_final.shape"
   ]
  },
  {
   "cell_type": "code",
   "execution_count": null,
   "metadata": {},
   "outputs": [],
   "source": [
    "df_final.columns.values"
   ]
  },
  {
   "cell_type": "code",
   "execution_count": null,
   "metadata": {},
   "outputs": [],
   "source": [
    "df_final = df_final[['NHSNumber', 'HospitalNumber', 'Forename', 'Surname', 'DOB',\n",
    "       'Ethnicity', 'Postcode', 'Sex', 'DateOfOnset', 'SwabDate',\n",
    "       'LabTestDate', 'SpecimenType', 'OtherSpecimenType',\n",
    "       'LabResultCOVID19', 'LabResultInfluenzaA_H1N1pdm2009',\n",
    "       'LabResultInfluenzaA_H3N2', 'LabResultInfluenzaB',\n",
    "       'LabResultInfluenzaA_Non_Subtyped',\n",
    "       'LabResultInfluenzaA_Unsubtypable', 'LabResultRSV',\n",
    "       'LabResultOther', 'LabResultOtherDetails', 'AdmissionRelatedToFlu',\n",
    "       'AdmissionRelatedToRSV', 'AdmissionRelatedToCOVID19',\n",
    "       'AdmittedFrom', 'AdmittedFromDetails', 'DateOfHospitalAdmission',\n",
    "       'HourOfHospitalAdmission', 'MinuteOfHospitalAdmission',\n",
    "       'AdmittedToICU_HDU', 'DateOfICU_HDUAdmission',\n",
    "       'HourOfAdmissionToHDU_ICU', 'MinuteOfAdmissionToHDU_ICU',\n",
    "       'DateOfLeavingICU_HDU', 'ComplicationsViralPneumonia',\n",
    "       'ComplicationsSecondaryBacterialPneumonia', 'ComplicationsARDS',\n",
    "       'ComplicationsUnknown', 'ComplicationsOtherCoInfections',\n",
    "       'ComplicationsOther', 'IfComplicationsOtherSpecifyDetails',\n",
    "       'IfOtherCoInfectionsSpecifyOrganism',\n",
    "       'IfOtherCoInfectionsSpecifyTestDate', 'IfSBPSpecifyOrganismType',\n",
    "       'IfSBPOrganismTypeOtherSpecify', 'SBPDate',\n",
    "       'RespiratorySupportNone',\n",
    "       'RespiratorySupportOxygenViaCannulaeOrMask',\n",
    "       'RespiratorySupportHighFlowNasalOxygen',\n",
    "       'RespiratorySupportNonInvasiveMechanicalVentilation',\n",
    "       'RespiratorySupportInvasiveMechanicalVentilation',\n",
    "       'RespiratorySupportECMO',\n",
    "       'IfMechanicalInvasiveVentilationSpecifyDurationInDays',\n",
    "       'SpecificCOVID19Treatment', 'ChronicRespiratoryDisease',\n",
    "       'IfChronicRespiratoryDiseaseSpecifyCondition', 'Asthma',\n",
    "       'IfAsthmaSpecifyCondition', 'ChronicHeartDisease',\n",
    "       'IfChronicHeartDiseaseSpecifyCondition', 'Hypertension',\n",
    "       'IfHypertensionSpecifyCondition', 'ChronicRenalDisease',\n",
    "       'IfChronicRenalDiseaseSpecifyCondition', 'ChronicLiverDisease',\n",
    "       'IfChronicLiverDiseaseSpecifyCondition',\n",
    "       'ChronicNeurologicalDisease',\n",
    "       'IfChronicNeurologicalDiseaseSpecifyCondition', 'Diabetes',\n",
    "       'IfDiabetesSpecifyType', 'ImmunosuppressionTreatmentRelated',\n",
    "       'IfImmunosuppressionTreatmentRelatedSpecifyCondition',\n",
    "       'ImmunosuppressionDiseaseRelated',\n",
    "       'IfImmunosuppressionDiseaseRelatedSpecifyCondition',\n",
    "       'ObesityClinicallyApparent', 'ObesityBMI', 'Pregnant',\n",
    "       'IfPregnantSpecifyGestationWeek',\n",
    "       'TravelIn14DaysBeforeDiseaseOnset',\n",
    "       'IfTravelIn14DaysBeforeDiseaseOnsetSpecifyTravelDestinationAndReturnDate',\n",
    "       'PrematurityLessThan37Weeks', 'WorksAsAHealthcareWorker',\n",
    "       'ContactWithConfirmedCase14DaysBeforeOnset',\n",
    "       'UnderLyingConditionsOther',\n",
    "       'IfUnderLyingConditionsOtherSpecifyCondition', 'FinalOutcome',\n",
    "       'DateOfFinalOutcome', 'TransferDestination',\n",
    "       'TransferLocationDetails', 'CauseOfDeath',\n",
    "       'IfOtherCauseOfDeathSpecify', 'GeneralComments',\n",
    "       'Date & Time of Receipt', '*Respiration rate', '25VD', 'AKIA',\n",
    "       'ALB2', 'AST', 'CR2', 'CRP', 'DD2', 'FER2', 'FIBD', 'GFR3', 'HST1',\n",
    "       'Hb', 'LYM', 'NEUT', 'PLT', 'Peripheral oxygen saturation', 'TRIG',\n",
    "       'Total Obs Score', 'WBC']]"
   ]
  },
  {
   "cell_type": "code",
   "execution_count": null,
   "metadata": {},
   "outputs": [],
   "source": [
    "df_final['DOB'] = pd.to_datetime(df_final['DOB'], dayfirst = True)\n",
    "df_final['Date & Time of Receipt'] = pd.to_datetime(df_final['Date & Time of Receipt'], dayfirst = True)\n",
    "df_final['DateOfHospitalAdmission'] = pd.to_datetime(df_final['DateOfHospitalAdmission'], dayfirst = True)\n",
    "df_final['DateOfICU_HDUAdmission'] = pd.to_datetime(df_final['DateOfICU_HDUAdmission'], dayfirst = True)\n",
    "df_final['DateOfLeavingICU_HDU'] = pd.to_datetime(df_final['DateOfLeavingICU_HDU'], dayfirst = True)\n",
    "df_final['DateOfFinalOutcome'] = pd.to_datetime(df_final['DateOfFinalOutcome'], dayfirst = True)"
   ]
  },
  {
   "cell_type": "code",
   "execution_count": null,
   "metadata": {},
   "outputs": [],
   "source": [
    "df_final.info()"
   ]
  },
  {
   "cell_type": "code",
   "execution_count": null,
   "metadata": {},
   "outputs": [],
   "source": [
    "df_final.apply(lambda x: x.isnull().value_counts())"
   ]
  },
  {
   "cell_type": "code",
   "execution_count": null,
   "metadata": {},
   "outputs": [],
   "source": [
    "#df_final['Final_Outcome_Time'] = df_final['Date & Time of Receipt'] + timedelta(days=14)\n",
    "\n",
    "df_final['Final_Outcome_Time'] = df_final['Date & Time of Receipt'] + timedelta(days=10)"
   ]
  },
  {
   "cell_type": "code",
   "execution_count": null,
   "metadata": {},
   "outputs": [],
   "source": [
    "df_final['Still_Admitted'] = df_final['Final_Outcome_Time'].between(df_final['DateOfHospitalAdmission'], df_final['DateOfFinalOutcome'])"
   ]
  },
  {
   "cell_type": "code",
   "execution_count": null,
   "metadata": {},
   "outputs": [],
   "source": [
    "df_final['In_ICU'] = df_final['Final_Outcome_Time'].between(df_final['DateOfICU_HDUAdmission'], df_final['DateOfLeavingICU_HDU'])"
   ]
  },
  {
   "cell_type": "code",
   "execution_count": null,
   "metadata": {},
   "outputs": [],
   "source": [
    "df_final['index_date']= df_final['Date & Time of Receipt']- timedelta(days = 4)"
   ]
  },
  {
   "cell_type": "code",
   "execution_count": null,
   "metadata": {},
   "outputs": [],
   "source": [
    "df_final['Outcomed'] = df_final['DateOfFinalOutcome'].between(df_final['index_date'], df_final['Final_Outcome_Time'])"
   ]
  },
  {
   "cell_type": "code",
   "execution_count": null,
   "metadata": {},
   "outputs": [],
   "source": [
    "df_final['Outcomed'] = df_final['Outcomed'].astype(str)"
   ]
  },
  {
   "cell_type": "code",
   "execution_count": null,
   "metadata": {},
   "outputs": [],
   "source": [
    "df_final['Outcome'] = df_final['FinalOutcome'] + df_final['Outcomed'] "
   ]
  },
  {
   "cell_type": "code",
   "execution_count": null,
   "metadata": {},
   "outputs": [],
   "source": [
    "df_final['Outcome'] = df_final['Outcome'].apply(lambda x: x.replace('True', ''))"
   ]
  },
  {
   "cell_type": "code",
   "execution_count": null,
   "metadata": {},
   "outputs": [],
   "source": [
    "df_final['Outcome'].unique()"
   ]
  },
  {
   "cell_type": "code",
   "execution_count": null,
   "metadata": {},
   "outputs": [],
   "source": [
    "df_final['Outcome'] = df_final['Outcome'].apply(lambda x: x.replace('DeathFalse', ''))\n",
    "df_final['Outcome'] = df_final['Outcome'].apply(lambda x: x.replace('DischargedFalse', ''))"
   ]
  },
  {
   "cell_type": "code",
   "execution_count": null,
   "metadata": {},
   "outputs": [],
   "source": [
    "df_final['Outcome'].unique()"
   ]
  },
  {
   "cell_type": "code",
   "execution_count": null,
   "metadata": {},
   "outputs": [],
   "source": [
    "df_final['In_ICU'] = df_final['In_ICU'].astype(str)\n",
    "df_final['Still_Admitted'] = df_final['Still_Admitted'].astype(str)"
   ]
  },
  {
   "cell_type": "code",
   "execution_count": null,
   "metadata": {},
   "outputs": [],
   "source": [
    "df_final['Still_Admitted'] = df_final['Still_Admitted'].apply(lambda x: x.replace('False', ''))"
   ]
  },
  {
   "cell_type": "code",
   "execution_count": null,
   "metadata": {},
   "outputs": [],
   "source": [
    "df_final['Outcome'] = df_final['Outcome'] + df_final['Still_Admitted']"
   ]
  },
  {
   "cell_type": "code",
   "execution_count": null,
   "metadata": {},
   "outputs": [],
   "source": [
    "df_final['Outcome'].unique()"
   ]
  },
  {
   "cell_type": "code",
   "execution_count": null,
   "metadata": {},
   "outputs": [],
   "source": [
    "df_final['Outcome'] = df_final['Outcome'].apply(lambda x: x.replace('True','Inpatient'))"
   ]
  },
  {
   "cell_type": "code",
   "execution_count": null,
   "metadata": {},
   "outputs": [],
   "source": [
    "df_final['Outcome'].unique()"
   ]
  },
  {
   "cell_type": "code",
   "execution_count": null,
   "metadata": {},
   "outputs": [],
   "source": [
    "df_final['In_ICU']  = df_final['In_ICU'].apply(lambda x: x.replace('False', ''))"
   ]
  },
  {
   "cell_type": "code",
   "execution_count": null,
   "metadata": {},
   "outputs": [],
   "source": [
    "df_final['In_ICU']  = df_final['In_ICU'].apply(lambda x: x.replace('True', 'In ICU'))"
   ]
  },
  {
   "cell_type": "code",
   "execution_count": null,
   "metadata": {},
   "outputs": [],
   "source": [
    "df_final['Outcome'] = df_final['Outcome'] + df_final['In_ICU']"
   ]
  },
  {
   "cell_type": "code",
   "execution_count": null,
   "metadata": {},
   "outputs": [],
   "source": [
    "df_final['Outcome'] = df_final['Outcome'].apply(lambda x: x.replace('InpatientIn ICU', 'In ICU'))"
   ]
  },
  {
   "cell_type": "code",
   "execution_count": null,
   "metadata": {},
   "outputs": [],
   "source": [
    "df_final['Outcome'].unique()"
   ]
  },
  {
   "cell_type": "code",
   "execution_count": null,
   "metadata": {},
   "outputs": [],
   "source": [
    "df_final['Outcome'].value_counts()"
   ]
  },
  {
   "cell_type": "code",
   "execution_count": null,
   "metadata": {},
   "outputs": [],
   "source": [
    "df_final.to_excel('Outcome_Checking.xlsx')"
   ]
  },
  {
   "cell_type": "code",
   "execution_count": null,
   "metadata": {},
   "outputs": [],
   "source": [
    "OutcomesMap = {'Discharged':0, 'Death':1, 'Inpatient':0, 'In ICU':1, '':0}"
   ]
  },
  {
   "cell_type": "code",
   "execution_count": null,
   "metadata": {},
   "outputs": [],
   "source": [
    "df_final['Outcome'] = df_final['Outcome'].map(OutcomesMap)"
   ]
  },
  {
   "cell_type": "code",
   "execution_count": null,
   "metadata": {},
   "outputs": [],
   "source": [
    "df_final['Outcome'].value_counts()"
   ]
  },
  {
   "cell_type": "code",
   "execution_count": null,
   "metadata": {},
   "outputs": [],
   "source": [
    "df_final.Ethnicity.unique()"
   ]
  },
  {
   "cell_type": "code",
   "execution_count": null,
   "metadata": {},
   "outputs": [],
   "source": [
    "Ethnicity_Map = {'White British':'0', 'Other White':'0', 'Unknown':'1', 'Other Black':'1',\n",
    "       'White and Black African':'1', 'White and Black Caribbean':'1',\n",
    "       'White Irish':'0', 'Indian':'1', 'Other':'1', 'Other Asian':'1', 'Bangladeshi':'1',\n",
    "       'Black African':'1', 'Pakistani':'1', 'Chinese':'1'}"
   ]
  },
  {
   "cell_type": "code",
   "execution_count": null,
   "metadata": {},
   "outputs": [],
   "source": [
    "df_final.Ethnicity = df_final.Ethnicity.map(Ethnicity_Map)"
   ]
  },
  {
   "cell_type": "code",
   "execution_count": null,
   "metadata": {},
   "outputs": [],
   "source": [
    "df_final.Ethnicity.value_counts()"
   ]
  },
  {
   "cell_type": "code",
   "execution_count": null,
   "metadata": {},
   "outputs": [],
   "source": [
    "df_final['Lymphopenia'] = df_final['LYM'] < 1"
   ]
  },
  {
   "cell_type": "code",
   "execution_count": null,
   "metadata": {},
   "outputs": [],
   "source": [
    "df_final.Lymphopenia.dtypes"
   ]
  },
  {
   "cell_type": "code",
   "execution_count": null,
   "metadata": {},
   "outputs": [],
   "source": [
    "df_final['Lymphopenia'].value_counts()"
   ]
  },
  {
   "cell_type": "code",
   "execution_count": null,
   "metadata": {},
   "outputs": [],
   "source": [
    "df_final['Lymphopenia'] = df_final['Lymphopenia'].astype(int)"
   ]
  },
  {
   "cell_type": "code",
   "execution_count": null,
   "metadata": {},
   "outputs": [],
   "source": [
    "df_final['Lymphopenia'].value_counts()"
   ]
  },
  {
   "cell_type": "code",
   "execution_count": null,
   "metadata": {},
   "outputs": [],
   "source": [
    "df_final.Sex.unique()"
   ]
  },
  {
   "cell_type": "code",
   "execution_count": null,
   "metadata": {},
   "outputs": [],
   "source": [
    "df_final.Sex = df_final.Sex.apply(lambda x: 1 if x == 'Male' else 0)"
   ]
  },
  {
   "cell_type": "code",
   "execution_count": null,
   "metadata": {},
   "outputs": [],
   "source": [
    "df_final.Sex.unique()"
   ]
  },
  {
   "cell_type": "code",
   "execution_count": null,
   "metadata": {},
   "outputs": [],
   "source": [
    "df_final.SpecificCOVID19Treatment = df_final.SpecificCOVID19Treatment.apply(lambda x: 1 if x == 'Yes' else 0)\n",
    "df_final.ChronicRespiratoryDisease = df_final.ChronicRespiratoryDisease.apply(lambda x: 1 if x == 'Yes' else 0)\n",
    "df_final.Asthma = df_final.Asthma.apply(lambda x: 1 if x == 'Yes' else 0)\n",
    "df_final.ChronicHeartDisease = df_final.ChronicHeartDisease.apply(lambda x: 1 if x == 'Yes' else 0)\n",
    "df_final.Hypertension = df_final.Hypertension.apply(lambda x: 1 if x == 'Yes' else 0)\n",
    "df_final.ChronicRenalDisease = df_final.ChronicRenalDisease.apply(lambda x: 1 if x == 'Yes' else 0)\n",
    "df_final.ChronicLiverDisease = df_final.ChronicLiverDisease.apply(lambda x: 1 if x == 'Yes' else 0)\n",
    "df_final.ChronicNeurologicalDisease = df_final.ChronicNeurologicalDisease.apply(lambda x: 1 if x == 'Yes' else 0)\n",
    "df_final.Diabetes = df_final.Diabetes.apply(lambda x: 1 if x == 'Yes' else 0)\n",
    "df_final.ImmunosuppressionTreatmentRelated = df_final.ImmunosuppressionTreatmentRelated.apply(lambda x: 1 if x == 'Yes' else 0)\n",
    "df_final.ImmunosuppressionDiseaseRelated = df_final.ImmunosuppressionDiseaseRelated.apply(lambda x: 1 if x == 'Yes' else 0)\n",
    "df_final.ObesityClinicallyApparent = df_final.ObesityClinicallyApparent.apply(lambda x: 1 if x == 'Yes' else 0)\n",
    "df_final.UnderLyingConditionsOther = df_final.UnderLyingConditionsOther.apply(lambda x: 1 if x == 'Yes' else 0)\n",
    "df_final.ComplicationsOther = df_final.ComplicationsOther.apply(lambda x: 1 if x == 'Yes' else 0)"
   ]
  },
  {
   "cell_type": "code",
   "execution_count": null,
   "metadata": {},
   "outputs": [],
   "source": [
    "df_final.UnderLyingConditionsOther.unique()"
   ]
  },
  {
   "cell_type": "code",
   "execution_count": null,
   "metadata": {},
   "outputs": [],
   "source": [
    "df_final.info()"
   ]
  },
  {
   "cell_type": "code",
   "execution_count": null,
   "metadata": {},
   "outputs": [],
   "source": [
    "df_final.head()"
   ]
  },
  {
   "cell_type": "code",
   "execution_count": null,
   "metadata": {},
   "outputs": [],
   "source": [
    "df_final['Today'] = datetime.date.today()\n",
    "df_final['Today'] = pd.to_datetime(df_final['Today'])"
   ]
  },
  {
   "cell_type": "code",
   "execution_count": null,
   "metadata": {},
   "outputs": [],
   "source": [
    "df_final['Age_Days'] = df_final['Today'] - df_final['DOB']"
   ]
  },
  {
   "cell_type": "code",
   "execution_count": null,
   "metadata": {},
   "outputs": [],
   "source": [
    "df_final['Age_Days'] = df_final['Age_Days'].dt.days"
   ]
  },
  {
   "cell_type": "code",
   "execution_count": null,
   "metadata": {},
   "outputs": [],
   "source": [
    "df_final['Age'] = round(df_final['Age_Days']/364)"
   ]
  },
  {
   "cell_type": "code",
   "execution_count": null,
   "metadata": {},
   "outputs": [],
   "source": [
    "df_final['AKIA'] = df_final['AKIA'].fillna(0)"
   ]
  },
  {
   "cell_type": "code",
   "execution_count": null,
   "metadata": {},
   "outputs": [],
   "source": [
    "df_final['AKI'] = df_final['AKIA'].apply(lambda x: 0 if x == 0 else 1)"
   ]
  },
  {
   "cell_type": "code",
   "execution_count": null,
   "metadata": {},
   "outputs": [],
   "source": [
    "lambda x: x*10 if x<2 else (x**2 if x<4 else x+10)"
   ]
  },
  {
   "cell_type": "code",
   "execution_count": null,
   "metadata": {},
   "outputs": [],
   "source": [
    "df_final['NEWS2>5.10'] = df_final['Total Obs Score'].apply(lambda x: 1 if x >5.1 else (0 if x<=5.1 else np.nan) )\n",
    "df_final['CRP > 173.6'] = df_final['CRP'].apply(lambda x: 1 if x >=173.6 else (0 if x<173.6 else np.nan) )\n",
    "df_final['ALB2<31.1'] = df_final['ALB2'].apply(lambda x: 1 if x <=31.1 else (0 if x>31.1 else np.nan) )\n",
    "df_final['GFR3<31.6'] = df_final['GFR3'].apply(lambda x: 1 if x <=31.6 else (0 if x>31.6 else np.nan) )\n",
    "df_final['NEUT>8.77'] = df_final['NEUT'].apply(lambda x: 1 if x >8.77 else (0 if x<=8.77 else np.nan) )"
   ]
  },
  {
   "cell_type": "code",
   "execution_count": null,
   "metadata": {},
   "outputs": [],
   "source": [
    "df_final.to_excel(Output_Dir + 'NEWS2_FullDatabase_LAB_VERSION.xlsx', index = False)"
   ]
  },
  {
   "cell_type": "code",
   "execution_count": null,
   "metadata": {},
   "outputs": [],
   "source": [
    "df_final.info()"
   ]
  },
  {
   "cell_type": "code",
   "execution_count": null,
   "metadata": {},
   "outputs": [],
   "source": [
    "df_final['ChronicHeartDisease']"
   ]
  },
  {
   "cell_type": "code",
   "execution_count": null,
   "metadata": {},
   "outputs": [],
   "source": [
    "df_final['ChronicHeartDisease'] = (df_final['IfChronicHeartDiseaseSpecifyCondition'].str.contains('a'))"
   ]
  },
  {
   "cell_type": "code",
   "execution_count": null,
   "metadata": {},
   "outputs": [],
   "source": [
    "df_final['ChronicHeartDisease'] = (df_final['ChronicHeartDisease'].fillna(False))"
   ]
  },
  {
   "cell_type": "code",
   "execution_count": null,
   "metadata": {},
   "outputs": [],
   "source": [
    "df_final['ChronicHeartDisease'] = df_final['ChronicHeartDisease'].astype(int)"
   ]
  },
  {
   "cell_type": "code",
   "execution_count": null,
   "metadata": {},
   "outputs": [],
   "source": [
    "import math\n",
    "df_final['CRP_squareroot'] = df_final['CRP'].apply(lambda x: math.sqrt(x))"
   ]
  },
  {
   "cell_type": "code",
   "execution_count": null,
   "metadata": {},
   "outputs": [],
   "source": [
    "df_baseline = df_final[['index_date', 'Age', 'Ethnicity','Sex',\n",
    "        'ChronicRespiratoryDisease',\n",
    "        'Asthma',\n",
    "        'ChronicHeartDisease',\n",
    "        'Hypertension','ChronicRenalDisease', 'ChronicLiverDisease',\n",
    "       'ChronicNeurologicalDisease','Diabetes',\n",
    "       'ImmunosuppressionTreatmentRelated',\n",
    "       'ImmunosuppressionDiseaseRelated',\n",
    "       'ObesityClinicallyApparent',\n",
    "       'Date & Time of Receipt', '*Respiration rate', '25VD', 'AKIA',\n",
    "       'ALB2', 'AST', 'CR2', 'CRP','CRP_squareroot', 'DD2', 'FER2', 'FIBD', 'GFR3', 'HST1',\n",
    "       'Hb', 'LYM', 'NEUT', 'PLT', 'Peripheral oxygen saturation', 'TRIG',\n",
    "       'Total Obs Score', 'WBC',\n",
    "       'AKI', 'NEWS2>5.10', 'CRP > 173.6','Lymphopenia',\n",
    "       'ALB2<31.1', 'GFR3<31.6', 'NEUT>8.77','Final_Outcome_Time',  'Outcome']]"
   ]
  },
  {
   "cell_type": "code",
   "execution_count": null,
   "metadata": {},
   "outputs": [],
   "source": []
  },
  {
   "cell_type": "code",
   "execution_count": null,
   "metadata": {},
   "outputs": [],
   "source": [
    "df_baseline['ChronicRespiratoryDisease']=df_baseline['ChronicRespiratoryDisease'].apply(lambda x: 1 if x == 'Yes' else 0)\n",
    "df_baseline['Asthma']=df_baseline['Asthma'].apply(lambda x: 1 if x == 'Yes' else 0)\n",
    "df_baseline['ChronicHeartDisease']=df_baseline['ChronicHeartDisease'].apply(lambda x: 1 if x == 'Yes' else 0)\n",
    "df_baseline['Hypertension']=df_baseline['Hypertension'].apply(lambda x: 1 if x == 'Yes' else 0)\n",
    "df_baseline['ChronicRenalDisease'] =df_baseline['ChronicRenalDisease'].apply(lambda x: 1 if x == 'Yes' else 0)\n",
    "df_baseline['ChronicLiverDisease']=df_baseline['ChronicLiverDisease'].apply(lambda x: 1 if x == 'Yes' else 0)\n",
    "df_baseline['ChronicNeurologicalDisease']=df_baseline['ChronicNeurologicalDisease'].apply(lambda x: 1 if x == 'Yes' else 0)\n",
    "df_baseline['Diabetes']= df_baseline['Diabetes'].apply(lambda x: 1 if x == 'Yes' else 0)\n",
    "df_baseline['ImmunosuppressionTreatmentRelated']= df_baseline['ImmunosuppressionTreatmentRelated'].apply(lambda x: 1 if x == 'Yes' else 0)\n",
    "df_baseline['ImmunosuppressionDiseaseRelated']=df_baseline['ImmunosuppressionDiseaseRelated'].apply(lambda x: 1 if x == 'Yes' else 0)\n",
    "df_baseline['ObesityClinicallyApparent']=df_baseline['ObesityClinicallyApparent'].apply(lambda x: 1 if x == 'Yes' else 0)\n",
    "       "
   ]
  },
  {
   "cell_type": "code",
   "execution_count": null,
   "metadata": {},
   "outputs": [],
   "source": [
    "df_baseline.to_csv(Output_Dir + 'BaselineNew.csv', index = False)"
   ]
  },
  {
   "cell_type": "code",
   "execution_count": null,
   "metadata": {},
   "outputs": [],
   "source": []
  }
 ],
 "metadata": {
  "kernelspec": {
   "display_name": "Python 3",
   "language": "python",
   "name": "python3"
  },
  "language_info": {
   "codemirror_mode": {
    "name": "ipython",
    "version": 3
   },
   "file_extension": ".py",
   "mimetype": "text/x-python",
   "name": "python",
   "nbconvert_exporter": "python",
   "pygments_lexer": "ipython3",
   "version": "3.7.6"
  }
 },
 "nbformat": 4,
 "nbformat_minor": 4
}
